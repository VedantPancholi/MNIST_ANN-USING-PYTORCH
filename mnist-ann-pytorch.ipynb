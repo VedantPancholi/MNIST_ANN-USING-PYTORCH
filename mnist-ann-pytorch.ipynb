{
 "cells": [
  {
   "cell_type": "markdown",
   "id": "89c49d6e",
   "metadata": {
    "papermill": {
     "duration": 0.006051,
     "end_time": "2025-01-07T14:44:03.648834",
     "exception": false,
     "start_time": "2025-01-07T14:44:03.642783",
     "status": "completed"
    },
    "tags": []
   },
   "source": [
    "# Import the libraries"
   ]
  },
  {
   "cell_type": "code",
   "execution_count": 1,
   "id": "11e3e156",
   "metadata": {
    "_cell_guid": "b1076dfc-b9ad-4769-8c92-a6c4dae69d19",
    "_uuid": "8f2839f25d086af736a60e9eeb907d3b93b6e0e5",
    "execution": {
     "iopub.execute_input": "2025-01-07T14:44:03.658202Z",
     "iopub.status.busy": "2025-01-07T14:44:03.657889Z",
     "iopub.status.idle": "2025-01-07T14:44:08.045693Z",
     "shell.execute_reply": "2025-01-07T14:44:08.044805Z"
    },
    "papermill": {
     "duration": 4.394485,
     "end_time": "2025-01-07T14:44:08.047413",
     "exception": false,
     "start_time": "2025-01-07T14:44:03.652928",
     "status": "completed"
    },
    "tags": []
   },
   "outputs": [],
   "source": [
    "import torch\n",
    "import torch.nn as nn\n",
    "import torch.optim as optim\n",
    "from torchvision import datasets, transforms\n",
    "from torch.utils.data import DataLoader\n",
    "import matplotlib.pyplot as plt\n",
    "from collections import Counter"
   ]
  },
  {
   "cell_type": "markdown",
   "id": "5e213ad5",
   "metadata": {
    "papermill": {
     "duration": 0.003838,
     "end_time": "2025-01-07T14:44:08.055469",
     "exception": false,
     "start_time": "2025-01-07T14:44:08.051631",
     "status": "completed"
    },
    "tags": []
   },
   "source": [
    "# checking the device"
   ]
  },
  {
   "cell_type": "code",
   "execution_count": 2,
   "id": "6e3a8153",
   "metadata": {
    "execution": {
     "iopub.execute_input": "2025-01-07T14:44:08.064278Z",
     "iopub.status.busy": "2025-01-07T14:44:08.063971Z",
     "iopub.status.idle": "2025-01-07T14:44:08.147113Z",
     "shell.execute_reply": "2025-01-07T14:44:08.146092Z"
    },
    "papermill": {
     "duration": 0.089131,
     "end_time": "2025-01-07T14:44:08.148446",
     "exception": false,
     "start_time": "2025-01-07T14:44:08.059315",
     "status": "completed"
    },
    "tags": []
   },
   "outputs": [
    {
     "name": "stdout",
     "output_type": "stream",
     "text": [
      "cuda\n"
     ]
    }
   ],
   "source": [
    "device = torch.device(\"cuda\" if torch.cuda.is_available() else \"cpu\")\n",
    "print(device)"
   ]
  },
  {
   "cell_type": "markdown",
   "id": "dc2565d1",
   "metadata": {
    "papermill": {
     "duration": 0.00374,
     "end_time": "2025-01-07T14:44:08.156302",
     "exception": false,
     "start_time": "2025-01-07T14:44:08.152562",
     "status": "completed"
    },
    "tags": []
   },
   "source": [
    "# Hyperparameters"
   ]
  },
  {
   "cell_type": "code",
   "execution_count": 3,
   "id": "19712eb6",
   "metadata": {
    "execution": {
     "iopub.execute_input": "2025-01-07T14:44:08.164908Z",
     "iopub.status.busy": "2025-01-07T14:44:08.164548Z",
     "iopub.status.idle": "2025-01-07T14:44:08.168022Z",
     "shell.execute_reply": "2025-01-07T14:44:08.167354Z"
    },
    "papermill": {
     "duration": 0.0091,
     "end_time": "2025-01-07T14:44:08.169179",
     "exception": false,
     "start_time": "2025-01-07T14:44:08.160079",
     "status": "completed"
    },
    "tags": []
   },
   "outputs": [],
   "source": [
    "input_size = 784  # 28x28 images\n",
    "hidden_size = 128\n",
    "num_classes = 10  # 10 digits (0-9)\n",
    "num_epochs = 20\n",
    "batch_size = 64\n",
    "learning_rate = 0.001\n"
   ]
  },
  {
   "cell_type": "markdown",
   "id": "8811f7ce",
   "metadata": {
    "papermill": {
     "duration": 0.00394,
     "end_time": "2025-01-07T14:44:08.177060",
     "exception": false,
     "start_time": "2025-01-07T14:44:08.173120",
     "status": "completed"
    },
    "tags": []
   },
   "source": [
    "# Transformations and Dataset Preparation"
   ]
  },
  {
   "cell_type": "code",
   "execution_count": 4,
   "id": "39e4a2b5",
   "metadata": {
    "execution": {
     "iopub.execute_input": "2025-01-07T14:44:08.185689Z",
     "iopub.status.busy": "2025-01-07T14:44:08.185446Z",
     "iopub.status.idle": "2025-01-07T14:44:08.188443Z",
     "shell.execute_reply": "2025-01-07T14:44:08.187897Z"
    },
    "papermill": {
     "duration": 0.008461,
     "end_time": "2025-01-07T14:44:08.189529",
     "exception": false,
     "start_time": "2025-01-07T14:44:08.181068",
     "status": "completed"
    },
    "tags": []
   },
   "outputs": [],
   "source": [
    "transform = transforms.Compose([\n",
    "    transforms.ToTensor(),\n",
    "    transforms.Normalize((0.5,), (0.5,))\n",
    "])"
   ]
  },
  {
   "cell_type": "code",
   "execution_count": 5,
   "id": "968710ce",
   "metadata": {
    "execution": {
     "iopub.execute_input": "2025-01-07T14:44:08.198311Z",
     "iopub.status.busy": "2025-01-07T14:44:08.198111Z",
     "iopub.status.idle": "2025-01-07T14:44:08.201922Z",
     "shell.execute_reply": "2025-01-07T14:44:08.201194Z"
    },
    "papermill": {
     "duration": 0.009491,
     "end_time": "2025-01-07T14:44:08.203132",
     "exception": false,
     "start_time": "2025-01-07T14:44:08.193641",
     "status": "completed"
    },
    "tags": []
   },
   "outputs": [
    {
     "name": "stdout",
     "output_type": "stream",
     "text": [
      "Compose(\n",
      "    ToTensor()\n",
      "    Normalize(mean=(0.5,), std=(0.5,))\n",
      ")\n"
     ]
    }
   ],
   "source": [
    "print(transform)"
   ]
  },
  {
   "cell_type": "code",
   "execution_count": 6,
   "id": "7d7adfd7",
   "metadata": {
    "execution": {
     "iopub.execute_input": "2025-01-07T14:44:08.211670Z",
     "iopub.status.busy": "2025-01-07T14:44:08.211432Z",
     "iopub.status.idle": "2025-01-07T14:44:10.876899Z",
     "shell.execute_reply": "2025-01-07T14:44:10.875875Z"
    },
    "papermill": {
     "duration": 2.671124,
     "end_time": "2025-01-07T14:44:10.878268",
     "exception": false,
     "start_time": "2025-01-07T14:44:08.207144",
     "status": "completed"
    },
    "tags": []
   },
   "outputs": [
    {
     "name": "stdout",
     "output_type": "stream",
     "text": [
      "Downloading http://yann.lecun.com/exdb/mnist/train-images-idx3-ubyte.gz\n",
      "Failed to download (trying next):\n",
      "HTTP Error 403: Forbidden\n",
      "\n",
      "Downloading https://ossci-datasets.s3.amazonaws.com/mnist/train-images-idx3-ubyte.gz\n",
      "Downloading https://ossci-datasets.s3.amazonaws.com/mnist/train-images-idx3-ubyte.gz to ./data/MNIST/raw/train-images-idx3-ubyte.gz\n"
     ]
    },
    {
     "name": "stderr",
     "output_type": "stream",
     "text": [
      "100%|██████████| 9912422/9912422 [00:00<00:00, 39032032.70it/s]\n"
     ]
    },
    {
     "name": "stdout",
     "output_type": "stream",
     "text": [
      "Extracting ./data/MNIST/raw/train-images-idx3-ubyte.gz to ./data/MNIST/raw\n",
      "\n",
      "Downloading http://yann.lecun.com/exdb/mnist/train-labels-idx1-ubyte.gz\n",
      "Failed to download (trying next):\n",
      "HTTP Error 403: Forbidden\n",
      "\n",
      "Downloading https://ossci-datasets.s3.amazonaws.com/mnist/train-labels-idx1-ubyte.gz\n",
      "Downloading https://ossci-datasets.s3.amazonaws.com/mnist/train-labels-idx1-ubyte.gz to ./data/MNIST/raw/train-labels-idx1-ubyte.gz\n"
     ]
    },
    {
     "name": "stderr",
     "output_type": "stream",
     "text": [
      "100%|██████████| 28881/28881 [00:00<00:00, 1170234.88it/s]\n"
     ]
    },
    {
     "name": "stdout",
     "output_type": "stream",
     "text": [
      "Extracting ./data/MNIST/raw/train-labels-idx1-ubyte.gz to ./data/MNIST/raw\n",
      "\n",
      "Downloading http://yann.lecun.com/exdb/mnist/t10k-images-idx3-ubyte.gz\n",
      "Failed to download (trying next):\n",
      "HTTP Error 403: Forbidden\n",
      "\n",
      "Downloading https://ossci-datasets.s3.amazonaws.com/mnist/t10k-images-idx3-ubyte.gz\n",
      "Downloading https://ossci-datasets.s3.amazonaws.com/mnist/t10k-images-idx3-ubyte.gz to ./data/MNIST/raw/t10k-images-idx3-ubyte.gz\n"
     ]
    },
    {
     "name": "stderr",
     "output_type": "stream",
     "text": [
      "100%|██████████| 1648877/1648877 [00:00<00:00, 10635595.04it/s]\n"
     ]
    },
    {
     "name": "stdout",
     "output_type": "stream",
     "text": [
      "Extracting ./data/MNIST/raw/t10k-images-idx3-ubyte.gz to ./data/MNIST/raw\n",
      "\n",
      "Downloading http://yann.lecun.com/exdb/mnist/t10k-labels-idx1-ubyte.gz\n",
      "Failed to download (trying next):\n",
      "HTTP Error 403: Forbidden\n",
      "\n",
      "Downloading https://ossci-datasets.s3.amazonaws.com/mnist/t10k-labels-idx1-ubyte.gz\n",
      "Downloading https://ossci-datasets.s3.amazonaws.com/mnist/t10k-labels-idx1-ubyte.gz to ./data/MNIST/raw/t10k-labels-idx1-ubyte.gz\n"
     ]
    },
    {
     "name": "stderr",
     "output_type": "stream",
     "text": [
      "100%|██████████| 4542/4542 [00:00<00:00, 7947654.89it/s]"
     ]
    },
    {
     "name": "stdout",
     "output_type": "stream",
     "text": [
      "Extracting ./data/MNIST/raw/t10k-labels-idx1-ubyte.gz to ./data/MNIST/raw\n",
      "\n",
      "Dataset MNIST\n",
      "    Number of datapoints: 60000\n",
      "    Root location: ./data\n",
      "    Split: Train\n",
      "    StandardTransform\n",
      "Transform: Compose(\n",
      "               ToTensor()\n",
      "               Normalize(mean=(0.5,), std=(0.5,))\n",
      "           )\n",
      "Dataset MNIST\n",
      "    Number of datapoints: 10000\n",
      "    Root location: ./data\n",
      "    Split: Test\n",
      "    StandardTransform\n",
      "Transform: Compose(\n",
      "               ToTensor()\n",
      "               Normalize(mean=(0.5,), std=(0.5,))\n",
      "           )\n"
     ]
    },
    {
     "name": "stderr",
     "output_type": "stream",
     "text": [
      "\n"
     ]
    }
   ],
   "source": [
    "train_dataset = datasets.MNIST(root=\"./data\", train=True, transform=transform, download=True)\n",
    "test_dataset = datasets.MNIST(root=\"./data\", train=False, transform=transform, download=True)\n",
    "\n",
    "print(train_dataset)\n",
    "print(test_dataset)"
   ]
  },
  {
   "cell_type": "code",
   "execution_count": 7,
   "id": "0f03528d",
   "metadata": {
    "execution": {
     "iopub.execute_input": "2025-01-07T14:44:10.889651Z",
     "iopub.status.busy": "2025-01-07T14:44:10.889382Z",
     "iopub.status.idle": "2025-01-07T14:44:10.893869Z",
     "shell.execute_reply": "2025-01-07T14:44:10.893066Z"
    },
    "papermill": {
     "duration": 0.011373,
     "end_time": "2025-01-07T14:44:10.895162",
     "exception": false,
     "start_time": "2025-01-07T14:44:10.883789",
     "status": "completed"
    },
    "tags": []
   },
   "outputs": [
    {
     "name": "stdout",
     "output_type": "stream",
     "text": [
      "<torch.utils.data.dataloader.DataLoader object at 0x7a44e317de10>\n"
     ]
    }
   ],
   "source": [
    "train_loader = DataLoader(dataset=train_dataset, batch_size=batch_size, shuffle=True)\n",
    "test_loader = DataLoader(dataset=test_dataset, batch_size=batch_size, shuffle=False)\n",
    "\n",
    "print(train_loader)"
   ]
  },
  {
   "cell_type": "markdown",
   "id": "b6df7a0d",
   "metadata": {
    "papermill": {
     "duration": 0.005019,
     "end_time": "2025-01-07T14:44:10.905339",
     "exception": false,
     "start_time": "2025-01-07T14:44:10.900320",
     "status": "completed"
    },
    "tags": []
   },
   "source": [
    "# Count the number of images in each class"
   ]
  },
  {
   "cell_type": "code",
   "execution_count": 8,
   "id": "4262fab2",
   "metadata": {
    "execution": {
     "iopub.execute_input": "2025-01-07T14:44:10.916361Z",
     "iopub.status.busy": "2025-01-07T14:44:10.916166Z",
     "iopub.status.idle": "2025-01-07T14:44:10.931118Z",
     "shell.execute_reply": "2025-01-07T14:44:10.930591Z"
    },
    "papermill": {
     "duration": 0.022026,
     "end_time": "2025-01-07T14:44:10.932554",
     "exception": false,
     "start_time": "2025-01-07T14:44:10.910528",
     "status": "completed"
    },
    "tags": []
   },
   "outputs": [],
   "source": [
    "train_labels_count = Counter(train_dataset.targets.numpy())\n",
    "test_labels_count = Counter(test_dataset.targets.numpy())\n"
   ]
  },
  {
   "cell_type": "code",
   "execution_count": 9,
   "id": "843be9a4",
   "metadata": {
    "execution": {
     "iopub.execute_input": "2025-01-07T14:44:10.943706Z",
     "iopub.status.busy": "2025-01-07T14:44:10.943469Z",
     "iopub.status.idle": "2025-01-07T14:44:10.949777Z",
     "shell.execute_reply": "2025-01-07T14:44:10.949140Z"
    },
    "papermill": {
     "duration": 0.013317,
     "end_time": "2025-01-07T14:44:10.950993",
     "exception": false,
     "start_time": "2025-01-07T14:44:10.937676",
     "status": "completed"
    },
    "tags": []
   },
   "outputs": [
    {
     "name": "stdout",
     "output_type": "stream",
     "text": [
      "Number of images in training dataset: 60000\n",
      "Number of images in testing dataset: 10000\n",
      "Class distribution in training dataset:\n",
      "Class 5: 5421 images\n",
      "Class 0: 5923 images\n",
      "Class 4: 5842 images\n",
      "Class 1: 6742 images\n",
      "Class 9: 5949 images\n",
      "Class 2: 5958 images\n",
      "Class 3: 6131 images\n",
      "Class 6: 5918 images\n",
      "Class 7: 6265 images\n",
      "Class 8: 5851 images\n"
     ]
    }
   ],
   "source": [
    "print(\"Number of images in training dataset:\", len(train_dataset))\n",
    "print(\"Number of images in testing dataset:\", len(test_dataset))\n",
    "print(\"Class distribution in training dataset:\")\n",
    "for label, count in train_labels_count.items():\n",
    "    print(f\"Class {label}: {count} images\")\n"
   ]
  },
  {
   "cell_type": "markdown",
   "id": "4242b8ea",
   "metadata": {
    "papermill": {
     "duration": 0.004866,
     "end_time": "2025-01-07T14:44:10.961104",
     "exception": false,
     "start_time": "2025-01-07T14:44:10.956238",
     "status": "completed"
    },
    "tags": []
   },
   "source": [
    "# Defining the ANN model"
   ]
  },
  {
   "cell_type": "code",
   "execution_count": 10,
   "id": "ccbe4e78",
   "metadata": {
    "execution": {
     "iopub.execute_input": "2025-01-07T14:44:10.972355Z",
     "iopub.status.busy": "2025-01-07T14:44:10.972123Z",
     "iopub.status.idle": "2025-01-07T14:44:11.207243Z",
     "shell.execute_reply": "2025-01-07T14:44:11.206528Z"
    },
    "papermill": {
     "duration": 0.242367,
     "end_time": "2025-01-07T14:44:11.208789",
     "exception": false,
     "start_time": "2025-01-07T14:44:10.966422",
     "status": "completed"
    },
    "tags": []
   },
   "outputs": [],
   "source": [
    "class ANN(nn.Module):\n",
    "    def __init__(self, input_size, hidden_size, num_classes):\n",
    "        super(ANN, self).__init__()\n",
    "        self.fc1 = nn.Linear(input_size, hidden_size)\n",
    "        self.norm1 = nn.BatchNorm1d(hidden_size)\n",
    "        self.relu1 = nn.ReLU()\n",
    "        self.fc2 = nn.Linear(hidden_size, hidden_size)\n",
    "        self.norm2 = nn.BatchNorm1d(hidden_size)\n",
    "        self.relu2 = nn.ReLU()\n",
    "        self.fc3 = nn.Linear(hidden_size, hidden_size)\n",
    "        self.norm3 = nn.BatchNorm1d(hidden_size)\n",
    "        self.relu3 = nn.ReLU()\n",
    "        self.fc4 = nn.Linear(hidden_size, hidden_size)\n",
    "        self.norm4 = nn.BatchNorm1d(hidden_size)\n",
    "        self.relu4 = nn.ReLU()\n",
    "        self.fc5 = nn.Linear(hidden_size, num_classes)\n",
    "\n",
    "    def forward(self, x):\n",
    "        x = x.view(-1, input_size)  # Flatten the images\n",
    "        x = self.fc1(x)\n",
    "        x = self.norm1(x)\n",
    "        x = self.relu1(x)\n",
    "        x = self.fc2(x)\n",
    "        x = self.norm2(x)\n",
    "        x = self.relu2(x)\n",
    "        x = self.fc3(x)\n",
    "        x = self.norm3(x)\n",
    "        x = self.relu3(x)\n",
    "        x = self.fc4(x)\n",
    "        x = self.norm4(x)\n",
    "        x = self.relu4(x)\n",
    "        x = self.fc5(x)\n",
    "        return x\n",
    "\n",
    "model = ANN(input_size, hidden_size, num_classes).to(device)\n"
   ]
  },
  {
   "cell_type": "code",
   "execution_count": 11,
   "id": "aee19ec4",
   "metadata": {
    "execution": {
     "iopub.execute_input": "2025-01-07T14:44:11.220664Z",
     "iopub.status.busy": "2025-01-07T14:44:11.220417Z",
     "iopub.status.idle": "2025-01-07T14:44:11.224500Z",
     "shell.execute_reply": "2025-01-07T14:44:11.223644Z"
    },
    "papermill": {
     "duration": 0.010979,
     "end_time": "2025-01-07T14:44:11.225689",
     "exception": false,
     "start_time": "2025-01-07T14:44:11.214710",
     "status": "completed"
    },
    "tags": []
   },
   "outputs": [
    {
     "name": "stdout",
     "output_type": "stream",
     "text": [
      "ANN(\n",
      "  (fc1): Linear(in_features=784, out_features=128, bias=True)\n",
      "  (norm1): BatchNorm1d(128, eps=1e-05, momentum=0.1, affine=True, track_running_stats=True)\n",
      "  (relu1): ReLU()\n",
      "  (fc2): Linear(in_features=128, out_features=128, bias=True)\n",
      "  (norm2): BatchNorm1d(128, eps=1e-05, momentum=0.1, affine=True, track_running_stats=True)\n",
      "  (relu2): ReLU()\n",
      "  (fc3): Linear(in_features=128, out_features=128, bias=True)\n",
      "  (norm3): BatchNorm1d(128, eps=1e-05, momentum=0.1, affine=True, track_running_stats=True)\n",
      "  (relu3): ReLU()\n",
      "  (fc4): Linear(in_features=128, out_features=128, bias=True)\n",
      "  (norm4): BatchNorm1d(128, eps=1e-05, momentum=0.1, affine=True, track_running_stats=True)\n",
      "  (relu4): ReLU()\n",
      "  (fc5): Linear(in_features=128, out_features=10, bias=True)\n",
      ")\n"
     ]
    }
   ],
   "source": [
    "print(model)"
   ]
  },
  {
   "cell_type": "markdown",
   "id": "53fef6a0",
   "metadata": {
    "papermill": {
     "duration": 0.005024,
     "end_time": "2025-01-07T14:44:11.235993",
     "exception": false,
     "start_time": "2025-01-07T14:44:11.230969",
     "status": "completed"
    },
    "tags": []
   },
   "source": [
    "# Loss and Optimizer"
   ]
  },
  {
   "cell_type": "code",
   "execution_count": 12,
   "id": "5df62362",
   "metadata": {
    "execution": {
     "iopub.execute_input": "2025-01-07T14:44:11.247151Z",
     "iopub.status.busy": "2025-01-07T14:44:11.246941Z",
     "iopub.status.idle": "2025-01-07T14:44:11.250169Z",
     "shell.execute_reply": "2025-01-07T14:44:11.249548Z"
    },
    "papermill": {
     "duration": 0.010028,
     "end_time": "2025-01-07T14:44:11.251279",
     "exception": false,
     "start_time": "2025-01-07T14:44:11.241251",
     "status": "completed"
    },
    "tags": []
   },
   "outputs": [],
   "source": [
    "criterion = nn.CrossEntropyLoss()\n",
    "optimizer = optim.Adam(model.parameters(), lr=learning_rate)\n"
   ]
  },
  {
   "cell_type": "code",
   "execution_count": 13,
   "id": "cc50006c",
   "metadata": {
    "execution": {
     "iopub.execute_input": "2025-01-07T14:44:11.262270Z",
     "iopub.status.busy": "2025-01-07T14:44:11.262055Z",
     "iopub.status.idle": "2025-01-07T14:44:11.265734Z",
     "shell.execute_reply": "2025-01-07T14:44:11.264762Z"
    },
    "papermill": {
     "duration": 0.01054,
     "end_time": "2025-01-07T14:44:11.267065",
     "exception": false,
     "start_time": "2025-01-07T14:44:11.256525",
     "status": "completed"
    },
    "tags": []
   },
   "outputs": [
    {
     "name": "stdout",
     "output_type": "stream",
     "text": [
      "CrossEntropyLoss()\n",
      "Adam (\n",
      "Parameter Group 0\n",
      "    amsgrad: False\n",
      "    betas: (0.9, 0.999)\n",
      "    capturable: False\n",
      "    differentiable: False\n",
      "    eps: 1e-08\n",
      "    foreach: None\n",
      "    fused: None\n",
      "    lr: 0.001\n",
      "    maximize: False\n",
      "    weight_decay: 0\n",
      ")\n"
     ]
    }
   ],
   "source": [
    "print(criterion)\n",
    "print(optimizer)"
   ]
  },
  {
   "cell_type": "markdown",
   "id": "2b35ae6d",
   "metadata": {
    "papermill": {
     "duration": 0.004986,
     "end_time": "2025-01-07T14:44:11.277396",
     "exception": false,
     "start_time": "2025-01-07T14:44:11.272410",
     "status": "completed"
    },
    "tags": []
   },
   "source": [
    "# Training Loop"
   ]
  },
  {
   "cell_type": "code",
   "execution_count": 14,
   "id": "a2ef64f7",
   "metadata": {
    "execution": {
     "iopub.execute_input": "2025-01-07T14:44:11.288525Z",
     "iopub.status.busy": "2025-01-07T14:44:11.288320Z",
     "iopub.status.idle": "2025-01-07T14:48:32.462353Z",
     "shell.execute_reply": "2025-01-07T14:48:32.461180Z"
    },
    "papermill": {
     "duration": 261.181289,
     "end_time": "2025-01-07T14:48:32.463806",
     "exception": false,
     "start_time": "2025-01-07T14:44:11.282517",
     "status": "completed"
    },
    "tags": []
   },
   "outputs": [
    {
     "name": "stdout",
     "output_type": "stream",
     "text": [
      "Training the model...\n",
      "Epoch [1/20], Loss: 0.3431\n",
      "Epoch [2/20], Loss: 0.2427\n",
      "Epoch [3/20], Loss: 0.1575\n",
      "Epoch [4/20], Loss: 0.0351\n",
      "Epoch [5/20], Loss: 0.0232\n",
      "Epoch [6/20], Loss: 0.0508\n",
      "Epoch [7/20], Loss: 0.0054\n",
      "Epoch [8/20], Loss: 0.0185\n",
      "Epoch [9/20], Loss: 0.0277\n",
      "Epoch [10/20], Loss: 0.0007\n",
      "Epoch [11/20], Loss: 0.0056\n",
      "Epoch [12/20], Loss: 0.0185\n",
      "Epoch [13/20], Loss: 0.0007\n",
      "Epoch [14/20], Loss: 0.0492\n",
      "Epoch [15/20], Loss: 0.0104\n",
      "Epoch [16/20], Loss: 0.0370\n",
      "Epoch [17/20], Loss: 0.0005\n",
      "Epoch [18/20], Loss: 0.0018\n",
      "Epoch [19/20], Loss: 0.0077\n",
      "Epoch [20/20], Loss: 0.0269\n"
     ]
    }
   ],
   "source": [
    "print(\"Training the model...\")\n",
    "for epoch in range(num_epochs):\n",
    "    model.train()\n",
    "    for batch_idx, (images, labels) in enumerate(train_loader):\n",
    "        images, labels = images.to(device), labels.to(device)\n",
    "\n",
    "        # Forward pass\n",
    "        outputs = model(images)\n",
    "        loss = criterion(outputs, labels)\n",
    "\n",
    "        # Backward pass\n",
    "        optimizer.zero_grad()\n",
    "        loss.backward()\n",
    "        optimizer.step()\n",
    "\n",
    "    print(f\"Epoch [{epoch + 1}/{num_epochs}], Loss: {loss.item():.4f}\")\n"
   ]
  },
  {
   "cell_type": "markdown",
   "id": "dbe65746",
   "metadata": {
    "papermill": {
     "duration": 0.006247,
     "end_time": "2025-01-07T14:48:32.476654",
     "exception": false,
     "start_time": "2025-01-07T14:48:32.470407",
     "status": "completed"
    },
    "tags": []
   },
   "source": [
    "# Testing Loop"
   ]
  },
  {
   "cell_type": "code",
   "execution_count": 15,
   "id": "d314706c",
   "metadata": {
    "execution": {
     "iopub.execute_input": "2025-01-07T14:48:32.489443Z",
     "iopub.status.busy": "2025-01-07T14:48:32.489172Z",
     "iopub.status.idle": "2025-01-07T14:53:04.771500Z",
     "shell.execute_reply": "2025-01-07T14:53:04.770648Z"
    },
    "papermill": {
     "duration": 272.291339,
     "end_time": "2025-01-07T14:53:04.773985",
     "exception": false,
     "start_time": "2025-01-07T14:48:32.482646",
     "status": "completed"
    },
    "tags": []
   },
   "outputs": [
    {
     "name": "stdout",
     "output_type": "stream",
     "text": [
      "Epoch [1/20], Loss: 0.0147, Accuracy: 99.50%\n",
      "Epoch [2/20], Loss: 0.0139, Accuracy: 99.53%\n",
      "Epoch [3/20], Loss: 0.0133, Accuracy: 99.57%\n",
      "Epoch [4/20], Loss: 0.0121, Accuracy: 99.61%\n",
      "Epoch [5/20], Loss: 0.0141, Accuracy: 99.54%\n",
      "Epoch [6/20], Loss: 0.0115, Accuracy: 99.62%\n",
      "Epoch [7/20], Loss: 0.0108, Accuracy: 99.63%\n",
      "Epoch [8/20], Loss: 0.0109, Accuracy: 99.63%\n",
      "Epoch [9/20], Loss: 0.0116, Accuracy: 99.61%\n",
      "Epoch [10/20], Loss: 0.0099, Accuracy: 99.67%\n",
      "Epoch [11/20], Loss: 0.0119, Accuracy: 99.59%\n",
      "Epoch [12/20], Loss: 0.0101, Accuracy: 99.67%\n",
      "Epoch [13/20], Loss: 0.0075, Accuracy: 99.76%\n",
      "Epoch [14/20], Loss: 0.0085, Accuracy: 99.72%\n",
      "Epoch [15/20], Loss: 0.0098, Accuracy: 99.67%\n",
      "Epoch [16/20], Loss: 0.0087, Accuracy: 99.71%\n",
      "Epoch [17/20], Loss: 0.0079, Accuracy: 99.76%\n",
      "Epoch [18/20], Loss: 0.0095, Accuracy: 99.72%\n",
      "Epoch [19/20], Loss: 0.0065, Accuracy: 99.78%\n",
      "Epoch [20/20], Loss: 0.0082, Accuracy: 99.72%\n"
     ]
    },
    {
     "data": {
      "image/png": "[encoded data removed]",
      "text/plain": [
       "<Figure size 1000x700 with 1 Axes>"
      ]
     },
     "metadata": {},
     "output_type": "display_data"
    }
   ],
   "source": [
    "import matplotlib.pyplot as plt\n",
    "from mpl_toolkits.mplot3d import Axes3D\n",
    "\n",
    "# Initialize lists to store loss, accuracy, and epochs\n",
    "loss_list = []\n",
    "accuracy_list = []\n",
    "epoch_list = list(range(1, num_epochs + 1))\n",
    "\n",
    "# Training loop with loss and accuracy tracking\n",
    "for epoch in range(num_epochs):\n",
    "    model.train()\n",
    "    correct = 0\n",
    "    total = 0\n",
    "    running_loss = 0.0\n",
    "    \n",
    "    for images, labels in train_loader:\n",
    "        images, labels = images.to(device), labels.to(device)\n",
    "        \n",
    "        # Zero the parameter gradients\n",
    "        optimizer.zero_grad()\n",
    "        \n",
    "        # Forward pass\n",
    "        outputs = model(images)\n",
    "        loss = criterion(outputs, labels)\n",
    "        \n",
    "        # Backward pass and optimization\n",
    "        loss.backward()\n",
    "        optimizer.step()\n",
    "        \n",
    "        # Statistics\n",
    "        running_loss += loss.item()\n",
    "        _, predicted = torch.max(outputs.data, 1)\n",
    "        total += labels.size(0)\n",
    "        correct += (predicted == labels).sum().item()\n",
    "\n",
    "    # Calculate average loss and accuracy for this epoch\n",
    "    epoch_loss = running_loss / len(train_loader)\n",
    "    accuracy = 100 * correct / total\n",
    "    loss_list.append(epoch_loss)\n",
    "    accuracy_list.append(accuracy)\n",
    "\n",
    "    print(f\"Epoch [{epoch + 1}/{num_epochs}], Loss: {epoch_loss:.4f}, Accuracy: {accuracy:.2f}%\")\n",
    "\n",
    "# After training completes, plot the 3D graph\n",
    "fig = plt.figure(figsize=(10, 7))\n",
    "ax = fig.add_subplot(111, projection='3d')\n",
    "\n",
    "# Plotting loss and accuracy over epochs in 3D\n",
    "ax.plot(epoch_list, loss_list, accuracy_list, label='Loss & Accuracy over Epochs', color='blue')\n",
    "\n",
    "# Label the axes\n",
    "ax.set_xlabel('Epochs')\n",
    "ax.set_ylabel('Loss')\n",
    "ax.set_zlabel('Accuracy (%)')\n",
    "\n",
    "# Set the title\n",
    "ax.set_title('3D Plot of Loss and Accuracy over Epochs')\n",
    "\n",
    "# Show the plot\n",
    "plt.show()\n"
   ]
  },
  {
   "cell_type": "markdown",
   "id": "d8611220",
   "metadata": {
    "papermill": {
     "duration": 0.008867,
     "end_time": "2025-01-07T14:53:04.792916",
     "exception": false,
     "start_time": "2025-01-07T14:53:04.784049",
     "status": "completed"
    },
    "tags": []
   },
   "source": [
    "# Saving the Model"
   ]
  },
  {
   "cell_type": "code",
   "execution_count": 16,
   "id": "8cd9cb69",
   "metadata": {
    "execution": {
     "iopub.execute_input": "2025-01-07T14:53:04.812107Z",
     "iopub.status.busy": "2025-01-07T14:53:04.811856Z",
     "iopub.status.idle": "2025-01-07T14:53:04.820897Z",
     "shell.execute_reply": "2025-01-07T14:53:04.820108Z"
    },
    "papermill": {
     "duration": 0.02006,
     "end_time": "2025-01-07T14:53:04.822042",
     "exception": false,
     "start_time": "2025-01-07T14:53:04.801982",
     "status": "completed"
    },
    "tags": []
   },
   "outputs": [
    {
     "name": "stdout",
     "output_type": "stream",
     "text": [
      "Model saved as mnist_ann.pth\n"
     ]
    }
   ],
   "source": [
    "torch.save(model.state_dict(), \"mnist_ann.pth\")\n",
    "print(\"Model saved as mnist_ann.pth\")\n"
   ]
  },
  {
   "cell_type": "code",
   "execution_count": null,
   "id": "4c048f96",
   "metadata": {
    "papermill": {
     "duration": 0.008717,
     "end_time": "2025-01-07T14:53:04.839888",
     "exception": false,
     "start_time": "2025-01-07T14:53:04.831171",
     "status": "completed"
    },
    "tags": []
   },
   "outputs": [],
   "source": []
  }
 ],
 "metadata": {
  "kaggle": {
   "accelerator": "nvidiaTeslaT4",
   "dataSources": [],
   "dockerImageVersionId": 30823,
   "isGpuEnabled": true,
   "isInternetEnabled": true,
   "language": "python",
   "sourceType": "notebook"
  },
  "kernelspec": {
   "display_name": "Python 3",
   "language": "python",
   "name": "python3"
  },
  "language_info": {
   "codemirror_mode": {
    "name": "ipython",
    "version": 3
   },
   "file_extension": ".py",
   "mimetype": "text/x-python",
   "name": "python",
   "nbconvert_exporter": "python",
   "pygments_lexer": "ipython3",
   "version": "3.10.12"
  },
  "papermill": {
   "default_parameters": {},
   "duration": 544.813017,
   "end_time": "2025-01-07T14:53:06.270854",
   "environment_variables": {},
   "exception": null,
   "input_path": "__notebook__.ipynb",
   "output_path": "__notebook__.ipynb",
   "parameters": {},
   "start_time": "2025-01-07T14:44:01.457837",
   "version": "2.6.0"
  }
 },
 "nbformat": 4,
 "nbformat_minor": 5
}
